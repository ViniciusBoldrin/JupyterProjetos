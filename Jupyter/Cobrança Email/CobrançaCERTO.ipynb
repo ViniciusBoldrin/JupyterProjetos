{
 "cells": [
  {
   "cell_type": "code",
   "execution_count": 1,
   "id": "807f8c0f",
   "metadata": {},
   "outputs": [
    {
     "name": "stdout",
     "output_type": "stream",
     "text": [
      "Requirement already satisfied: pywin32 in c:\\users\\vinic\\anaconda3\\lib\\site-packages (306)\n"
     ]
    }
   ],
   "source": [
    "!pip install pywin32"
   ]
  },
  {
   "cell_type": "code",
   "execution_count": 4,
   "id": "fb462242",
   "metadata": {},
   "outputs": [],
   "source": [
    "import win32com.client as client\n",
    "import pandas as pd\n",
    "import datetime as dt"
   ]
  },
  {
   "cell_type": "code",
   "execution_count": 7,
   "id": "0cd645c0",
   "metadata": {},
   "outputs": [
    {
     "data": {
      "text/html": [
       "<div>\n",
       "<style scoped>\n",
       "    .dataframe tbody tr th:only-of-type {\n",
       "        vertical-align: middle;\n",
       "    }\n",
       "\n",
       "    .dataframe tbody tr th {\n",
       "        vertical-align: top;\n",
       "    }\n",
       "\n",
       "    .dataframe thead th {\n",
       "        text-align: right;\n",
       "    }\n",
       "</style>\n",
       "<table border=\"1\" class=\"dataframe\">\n",
       "  <thead>\n",
       "    <tr style=\"text-align: right;\">\n",
       "      <th></th>\n",
       "      <th>CPF</th>\n",
       "      <th>Valor em Aberto</th>\n",
       "      <th>Data prevista para pagamento</th>\n",
       "      <th>Satus</th>\n",
       "      <th>email</th>\n",
       "      <th>NF</th>\n",
       "    </tr>\n",
       "  </thead>\n",
       "  <tbody>\n",
       "    <tr>\n",
       "      <th>0</th>\n",
       "      <td>XXX.XXX.XXX-XX</td>\n",
       "      <td>1200</td>\n",
       "      <td>2022-04-20</td>\n",
       "      <td>Em Aberto</td>\n",
       "      <td>vinicius_boldrin@hotmail.com</td>\n",
       "      <td>1</td>\n",
       "    </tr>\n",
       "    <tr>\n",
       "      <th>1</th>\n",
       "      <td>XXX.XXX.XXX-XX</td>\n",
       "      <td>1300</td>\n",
       "      <td>2022-04-20</td>\n",
       "      <td>Em Aberto</td>\n",
       "      <td>vini.boldrin@hotmail.com</td>\n",
       "      <td>2</td>\n",
       "    </tr>\n",
       "    <tr>\n",
       "      <th>2</th>\n",
       "      <td>XXX.XXX.XXX-XX</td>\n",
       "      <td>890</td>\n",
       "      <td>2022-04-20</td>\n",
       "      <td>Em Aberto</td>\n",
       "      <td>antonioboldrin704@gmail.com</td>\n",
       "      <td>3</td>\n",
       "    </tr>\n",
       "    <tr>\n",
       "      <th>3</th>\n",
       "      <td>XXX.XXX.XXX-XX</td>\n",
       "      <td>1100</td>\n",
       "      <td>2022-04-20</td>\n",
       "      <td>Em Aberto</td>\n",
       "      <td>psi.barbarabittencourt@gmail.com</td>\n",
       "      <td>4</td>\n",
       "    </tr>\n",
       "    <tr>\n",
       "      <th>4</th>\n",
       "      <td>XXX.XXX.XXX-XX</td>\n",
       "      <td>5000</td>\n",
       "      <td>2022-04-20</td>\n",
       "      <td>Em Aberto</td>\n",
       "      <td>vivian.boldrin5@hotmail.com</td>\n",
       "      <td>5</td>\n",
       "    </tr>\n",
       "    <tr>\n",
       "      <th>5</th>\n",
       "      <td>XXX.XXX.XXX-XX</td>\n",
       "      <td>12000</td>\n",
       "      <td>2022-04-20</td>\n",
       "      <td>Em Aberto</td>\n",
       "      <td>vivian.boldrin@hotmail.com</td>\n",
       "      <td>6</td>\n",
       "    </tr>\n",
       "  </tbody>\n",
       "</table>\n",
       "</div>"
      ],
      "text/plain": [
       "              CPF  Valor em Aberto Data prevista para pagamento      Satus  \\\n",
       "0  XXX.XXX.XXX-XX             1200                   2022-04-20  Em Aberto   \n",
       "1  XXX.XXX.XXX-XX             1300                   2022-04-20  Em Aberto   \n",
       "2  XXX.XXX.XXX-XX              890                   2022-04-20  Em Aberto   \n",
       "3  XXX.XXX.XXX-XX             1100                   2022-04-20  Em Aberto   \n",
       "4  XXX.XXX.XXX-XX             5000                   2022-04-20  Em Aberto   \n",
       "5  XXX.XXX.XXX-XX            12000                   2022-04-20  Em Aberto   \n",
       "\n",
       "                              email  NF  \n",
       "0      vinicius_boldrin@hotmail.com   1  \n",
       "1          vini.boldrin@hotmail.com   2  \n",
       "2       antonioboldrin704@gmail.com   3  \n",
       "3  psi.barbarabittencourt@gmail.com   4  \n",
       "4       vivian.boldrin5@hotmail.com   5  \n",
       "5        vivian.boldrin@hotmail.com   6  "
      ]
     },
     "metadata": {},
     "output_type": "display_data"
    },
    {
     "name": "stdout",
     "output_type": "stream",
     "text": [
      "<class 'pandas.core.frame.DataFrame'>\n",
      "RangeIndex: 6 entries, 0 to 5\n",
      "Data columns (total 6 columns):\n",
      " #   Column                        Non-Null Count  Dtype         \n",
      "---  ------                        --------------  -----         \n",
      " 0   CPF                           6 non-null      object        \n",
      " 1   Valor em Aberto               6 non-null      int64         \n",
      " 2   Data prevista para pagamento  6 non-null      datetime64[ns]\n",
      " 3   Satus                         6 non-null      object        \n",
      " 4   email                         6 non-null      object        \n",
      " 5   NF                            6 non-null      int64         \n",
      "dtypes: datetime64[ns](1), int64(2), object(3)\n",
      "memory usage: 416.0+ bytes\n"
     ]
    }
   ],
   "source": [
    "tabela = pd.read_excel('ContasPython.xlsx')\n",
    "display(tabela)\n",
    "tabela.info()"
   ]
  },
  {
   "cell_type": "code",
   "execution_count": null,
   "id": "fe2b6512",
   "metadata": {},
   "outputs": [],
   "source": []
  },
  {
   "cell_type": "code",
   "execution_count": null,
   "id": "a086f7fa",
   "metadata": {},
   "outputs": [],
   "source": []
  }
 ],
 "metadata": {
  "kernelspec": {
   "display_name": "Python 3 (ipykernel)",
   "language": "python",
   "name": "python3"
  },
  "language_info": {
   "codemirror_mode": {
    "name": "ipython",
    "version": 3
   },
   "file_extension": ".py",
   "mimetype": "text/x-python",
   "name": "python",
   "nbconvert_exporter": "python",
   "pygments_lexer": "ipython3",
   "version": "3.10.9"
  }
 },
 "nbformat": 4,
 "nbformat_minor": 5
}
